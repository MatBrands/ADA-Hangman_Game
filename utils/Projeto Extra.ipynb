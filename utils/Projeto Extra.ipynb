{
 "cells": [
  {
   "attachments": {},
   "cell_type": "markdown",
   "metadata": {},
   "source": [
    "# Não é o trabalho oficial !!"
   ]
  },
  {
   "attachments": {},
   "cell_type": "markdown",
   "metadata": {},
   "source": [
    "Módulo: [DS-PY-001] - Lógica de Programação (PY)\n",
    "\n",
    "Projeto: Hangman (Jogo da forca)\n",
    "\n",
    "Data de entrega: 27/01/2023\n",
    "\n",
    "Emails para enviar o projeto:\n",
    "- henriqueassiscordeiro@hotmail.com\n",
    "- wenale@gmail.com"
   ]
  },
  {
   "attachments": {},
   "cell_type": "markdown",
   "metadata": {},
   "source": [
    "## Objetivos"
   ]
  },
  {
   "attachments": {},
   "cell_type": "markdown",
   "metadata": {},
   "source": [
    "- Trabalhar com estrutura condicional (if, elif, else)\n",
    "- Trabalhar com estrutura de repetição (while e for loop)\n",
    "- Leitura do stdin e impressão no stdout\n",
    "- Utilizar manipulação(métodos) e slicing de strings\n",
    "- Utilização de listas\n",
    "- Utilização da biblioteca `random`: https://docs.python.org/3/library/random.html"
   ]
  },
  {
   "attachments": {},
   "cell_type": "markdown",
   "metadata": {},
   "source": [
    "## Descrição"
   ]
  },
  {
   "attachments": {},
   "cell_type": "markdown",
   "metadata": {},
   "source": [
    "Estabelecer dentro do código uma lista de palavras(ex: ['arvore', 'banana', 'gato', 'churrasqueira']) para uma delas ser escolhida de forma aleatória por uma função da biblioteca \"random\", e estabelecer um número X de tentatitvas para o usuário tentar adivinhar se uma letra(inserida no input() em cada tentativa) faz parte dessa palavra escolhida aleatoriamente da lista.\n",
    "\t\n",
    "Caso as tentativas do usuário acabem, imprimir uma mensagem informando que as tentativas acabaram e ele perdeu.\n",
    "\t\n",
    "Caso o usuário adivinhe a palavra inteira, imprimir uma mensagem de vitória.\n",
    "\n",
    "\n",
    "Ex: Palavra escolhida \"Churrasqueira\", se o usuário escrever a letra \"a\" no input(), você deve mostrar da seguinte forma:\n",
    "\n",
    "```\n",
    "_____A______A\n",
    "```\n",
    "\n",
    "Se em seguida o usuário digitar a letra \"r\", teremos que imprimir:\n",
    "\n",
    "```\n",
    "___RRA______RA\n",
    "```\n",
    "\n",
    "e assim por diante."
   ]
  }
 ],
 "metadata": {
  "kernelspec": {
   "display_name": "Python 3",
   "language": "python",
   "name": "python3"
  },
  "language_info": {
   "name": "python",
   "version": "3.10.9 (main, Dec 19 2022, 17:35:49) [GCC 12.2.0]"
  },
  "orig_nbformat": 4,
  "vscode": {
   "interpreter": {
    "hash": "e7370f93d1d0cde622a1f8e1c04877d8463912d04d973331ad4851f04de6915a"
   }
  }
 },
 "nbformat": 4,
 "nbformat_minor": 2
}
